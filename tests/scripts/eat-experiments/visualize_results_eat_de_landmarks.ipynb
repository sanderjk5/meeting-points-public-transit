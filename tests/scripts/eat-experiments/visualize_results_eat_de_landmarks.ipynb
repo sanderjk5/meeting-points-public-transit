{
 "cells": [
  {
   "cell_type": "markdown",
   "metadata": {},
   "source": [
    "# Visualize Test Results (EAT Queries) - Germany Graph"
   ]
  },
  {
   "cell_type": "code",
   "execution_count": 1,
   "metadata": {},
   "outputs": [],
   "source": [
    "import numpy as np\n",
    "import matplotlib.pyplot as plt\n",
    "import pandas as pd"
   ]
  },
  {
   "cell_type": "markdown",
   "metadata": {},
   "source": [
    "## Load the data"
   ]
  },
  {
   "cell_type": "code",
   "execution_count": 2,
   "metadata": {},
   "outputs": [],
   "source": [
    "folder = \"../../gesamt_de/results-eat/\"\n",
    "\n",
    "results = pd.read_csv(folder + \"raptor-eat-results-2024-7-18-19-45-18.csv\")"
   ]
  },
  {
   "cell_type": "code",
   "execution_count": 3,
   "metadata": {},
   "outputs": [
    {
     "data": {
      "text/html": [
       "<div>\n",
       "<style scoped>\n",
       "    .dataframe tbody tr th:only-of-type {\n",
       "        vertical-align: middle;\n",
       "    }\n",
       "\n",
       "    .dataframe tbody tr th {\n",
       "        vertical-align: top;\n",
       "    }\n",
       "\n",
       "    .dataframe thead th {\n",
       "        text-align: right;\n",
       "    }\n",
       "</style>\n",
       "<table border=\"1\" class=\"dataframe\">\n",
       "  <thead>\n",
       "    <tr style=\"text-align: right;\">\n",
       "      <th></th>\n",
       "      <th>avgDuration</th>\n",
       "      <th>medianDuration</th>\n",
       "      <th>maxDuration</th>\n",
       "      <th>minDuration</th>\n",
       "      <th>avgQueryTimeRaptor</th>\n",
       "      <th>avgQueryTimeRaptorBoundStar</th>\n",
       "      <th>avgQueryTimeRaptorPQStar</th>\n",
       "      <th>medianQueryTimeRaptor</th>\n",
       "      <th>medianQueryTimeRaptorBoundStar</th>\n",
       "      <th>medianQueryTimeRaptorPQStar</th>\n",
       "      <th>...</th>\n",
       "      <th>avgLowerBoundSmallerCountRaptorBoundStar</th>\n",
       "      <th>avgLowerBoundSmallerCountRaptorPQStar</th>\n",
       "      <th>avgLowerBoundGreaterCountRaptorBoundStar</th>\n",
       "      <th>avgLowerBoundGreaterCountRaptorPQStar</th>\n",
       "      <th>avgLowerBoundSmallerFractionRaptorBoundStar</th>\n",
       "      <th>avgLowerBoundSmallerFractionRaptorPQStar</th>\n",
       "      <th>avgLowerBoundAbsDiffRaptorBoundStar</th>\n",
       "      <th>avgLowerBoundAbsDiffRaptorPQStar</th>\n",
       "      <th>avgLowerBoundRelDiffRaptorBoundStar</th>\n",
       "      <th>avgLowerBoundRelDiffRaptorPQStar</th>\n",
       "    </tr>\n",
       "  </thead>\n",
       "  <tbody>\n",
       "    <tr>\n",
       "      <th>0</th>\n",
       "      <td>368.54</td>\n",
       "      <td>317.325</td>\n",
       "      <td>3925.92</td>\n",
       "      <td>0</td>\n",
       "      <td>732.728</td>\n",
       "      <td>599.035</td>\n",
       "      <td>590.897</td>\n",
       "      <td>756.5</td>\n",
       "      <td>596.5</td>\n",
       "      <td>568</td>\n",
       "      <td>...</td>\n",
       "      <td>214094</td>\n",
       "      <td>35996.2</td>\n",
       "      <td>72696.7</td>\n",
       "      <td>15.1112</td>\n",
       "      <td>0.677856</td>\n",
       "      <td>NaN</td>\n",
       "      <td>14850.2</td>\n",
       "      <td>NaN</td>\n",
       "      <td>0.13984</td>\n",
       "      <td>NaN</td>\n",
       "    </tr>\n",
       "  </tbody>\n",
       "</table>\n",
       "<p>1 rows × 40 columns</p>\n",
       "</div>"
      ],
      "text/plain": [
       "   avgDuration  medianDuration  maxDuration  minDuration  avgQueryTimeRaptor  \\\n",
       "0       368.54         317.325      3925.92            0             732.728   \n",
       "\n",
       "   avgQueryTimeRaptorBoundStar  avgQueryTimeRaptorPQStar  \\\n",
       "0                      599.035                   590.897   \n",
       "\n",
       "   medianQueryTimeRaptor  medianQueryTimeRaptorBoundStar  \\\n",
       "0                  756.5                           596.5   \n",
       "\n",
       "   medianQueryTimeRaptorPQStar  ...  avgLowerBoundSmallerCountRaptorBoundStar  \\\n",
       "0                          568  ...                                    214094   \n",
       "\n",
       "   avgLowerBoundSmallerCountRaptorPQStar  \\\n",
       "0                                35996.2   \n",
       "\n",
       "   avgLowerBoundGreaterCountRaptorBoundStar  \\\n",
       "0                                   72696.7   \n",
       "\n",
       "   avgLowerBoundGreaterCountRaptorPQStar  \\\n",
       "0                                15.1112   \n",
       "\n",
       "   avgLowerBoundSmallerFractionRaptorBoundStar  \\\n",
       "0                                     0.677856   \n",
       "\n",
       "   avgLowerBoundSmallerFractionRaptorPQStar  \\\n",
       "0                                       NaN   \n",
       "\n",
       "   avgLowerBoundAbsDiffRaptorBoundStar  avgLowerBoundAbsDiffRaptorPQStar  \\\n",
       "0                              14850.2                               NaN   \n",
       "\n",
       "   avgLowerBoundRelDiffRaptorBoundStar  avgLowerBoundRelDiffRaptorPQStar  \n",
       "0                              0.13984                               NaN  \n",
       "\n",
       "[1 rows x 40 columns]"
      ]
     },
     "metadata": {},
     "output_type": "display_data"
    }
   ],
   "source": [
    "display(results)"
   ]
  },
  {
   "cell_type": "markdown",
   "metadata": {},
   "source": [
    "## Analyze the query times"
   ]
  },
  {
   "cell_type": "code",
   "execution_count": 4,
   "metadata": {},
   "outputs": [],
   "source": [
    "avg_query_times_results_columns = [col for col in results.columns if 'avgQueryTime' in col and not 'Parallel' in col]\n",
    "median_query_times_results_columns = [col for col in results.columns if 'medianQueryTime' in col and not 'Parallel' in col]\n",
    "max_query_times_results_columns = [col for col in results.columns if 'maxQueryTime' in col and not 'Parallel' in col]\n",
    "min_query_times_results_columns = [col for col in results.columns if 'minQueryTime' in col and not 'Parallel'in col]"
   ]
  },
  {
   "cell_type": "code",
   "execution_count": 5,
   "metadata": {},
   "outputs": [
    {
     "data": {
      "text/html": [
       "<div>\n",
       "<style scoped>\n",
       "    .dataframe tbody tr th:only-of-type {\n",
       "        vertical-align: middle;\n",
       "    }\n",
       "\n",
       "    .dataframe tbody tr th {\n",
       "        vertical-align: top;\n",
       "    }\n",
       "\n",
       "    .dataframe thead th {\n",
       "        text-align: right;\n",
       "    }\n",
       "</style>\n",
       "<table border=\"1\" class=\"dataframe\">\n",
       "  <thead>\n",
       "    <tr style=\"text-align: right;\">\n",
       "      <th></th>\n",
       "      <th>avgQueryTimeRaptor</th>\n",
       "      <th>avgQueryTimeRaptorBoundStar</th>\n",
       "      <th>avgQueryTimeRaptorPQStar</th>\n",
       "    </tr>\n",
       "  </thead>\n",
       "  <tbody>\n",
       "    <tr>\n",
       "      <th>0</th>\n",
       "      <td>732.728</td>\n",
       "      <td>599.035</td>\n",
       "      <td>590.897</td>\n",
       "    </tr>\n",
       "  </tbody>\n",
       "</table>\n",
       "</div>"
      ],
      "text/plain": [
       "   avgQueryTimeRaptor  avgQueryTimeRaptorBoundStar  avgQueryTimeRaptorPQStar\n",
       "0             732.728                      599.035                   590.897"
      ]
     },
     "metadata": {},
     "output_type": "display_data"
    }
   ],
   "source": [
    "display(results[avg_query_times_results_columns])"
   ]
  },
  {
   "cell_type": "code",
   "execution_count": 6,
   "metadata": {},
   "outputs": [
    {
     "data": {
      "text/html": [
       "<div>\n",
       "<style scoped>\n",
       "    .dataframe tbody tr th:only-of-type {\n",
       "        vertical-align: middle;\n",
       "    }\n",
       "\n",
       "    .dataframe tbody tr th {\n",
       "        vertical-align: top;\n",
       "    }\n",
       "\n",
       "    .dataframe thead th {\n",
       "        text-align: right;\n",
       "    }\n",
       "</style>\n",
       "<table border=\"1\" class=\"dataframe\">\n",
       "  <thead>\n",
       "    <tr style=\"text-align: right;\">\n",
       "      <th></th>\n",
       "      <th>medianQueryTimeRaptor</th>\n",
       "      <th>medianQueryTimeRaptorBoundStar</th>\n",
       "      <th>medianQueryTimeRaptorPQStar</th>\n",
       "    </tr>\n",
       "  </thead>\n",
       "  <tbody>\n",
       "    <tr>\n",
       "      <th>0</th>\n",
       "      <td>756.5</td>\n",
       "      <td>596.5</td>\n",
       "      <td>568</td>\n",
       "    </tr>\n",
       "  </tbody>\n",
       "</table>\n",
       "</div>"
      ],
      "text/plain": [
       "   medianQueryTimeRaptor  medianQueryTimeRaptorBoundStar  \\\n",
       "0                  756.5                           596.5   \n",
       "\n",
       "   medianQueryTimeRaptorPQStar  \n",
       "0                          568  "
      ]
     },
     "metadata": {},
     "output_type": "display_data"
    }
   ],
   "source": [
    "display(results[median_query_times_results_columns])"
   ]
  },
  {
   "cell_type": "code",
   "execution_count": 7,
   "metadata": {},
   "outputs": [
    {
     "data": {
      "text/html": [
       "<div>\n",
       "<style scoped>\n",
       "    .dataframe tbody tr th:only-of-type {\n",
       "        vertical-align: middle;\n",
       "    }\n",
       "\n",
       "    .dataframe tbody tr th {\n",
       "        vertical-align: top;\n",
       "    }\n",
       "\n",
       "    .dataframe thead th {\n",
       "        text-align: right;\n",
       "    }\n",
       "</style>\n",
       "<table border=\"1\" class=\"dataframe\">\n",
       "  <thead>\n",
       "    <tr style=\"text-align: right;\">\n",
       "      <th></th>\n",
       "      <th>maxQueryTimeRaptor</th>\n",
       "      <th>maxQueryTimeRaptorBoundStar</th>\n",
       "      <th>maxQueryTimeRaptorPQStar</th>\n",
       "    </tr>\n",
       "  </thead>\n",
       "  <tbody>\n",
       "    <tr>\n",
       "      <th>0</th>\n",
       "      <td>2158</td>\n",
       "      <td>2058</td>\n",
       "      <td>1413</td>\n",
       "    </tr>\n",
       "  </tbody>\n",
       "</table>\n",
       "</div>"
      ],
      "text/plain": [
       "   maxQueryTimeRaptor  maxQueryTimeRaptorBoundStar  maxQueryTimeRaptorPQStar\n",
       "0                2158                         2058                      1413"
      ]
     },
     "metadata": {},
     "output_type": "display_data"
    }
   ],
   "source": [
    "display(results[max_query_times_results_columns])"
   ]
  },
  {
   "cell_type": "code",
   "execution_count": 8,
   "metadata": {},
   "outputs": [
    {
     "data": {
      "text/html": [
       "<div>\n",
       "<style scoped>\n",
       "    .dataframe tbody tr th:only-of-type {\n",
       "        vertical-align: middle;\n",
       "    }\n",
       "\n",
       "    .dataframe tbody tr th {\n",
       "        vertical-align: top;\n",
       "    }\n",
       "\n",
       "    .dataframe thead th {\n",
       "        text-align: right;\n",
       "    }\n",
       "</style>\n",
       "<table border=\"1\" class=\"dataframe\">\n",
       "  <thead>\n",
       "    <tr style=\"text-align: right;\">\n",
       "      <th></th>\n",
       "      <th>minQueryTimeRaptor</th>\n",
       "      <th>minQueryTimeRaptorBoundStar</th>\n",
       "      <th>minQueryTimeRaptorPQStar</th>\n",
       "    </tr>\n",
       "  </thead>\n",
       "  <tbody>\n",
       "    <tr>\n",
       "      <th>0</th>\n",
       "      <td>1</td>\n",
       "      <td>1</td>\n",
       "      <td>1</td>\n",
       "    </tr>\n",
       "  </tbody>\n",
       "</table>\n",
       "</div>"
      ],
      "text/plain": [
       "   minQueryTimeRaptor  minQueryTimeRaptorBoundStar  minQueryTimeRaptorPQStar\n",
       "0                   1                            1                         1"
      ]
     },
     "metadata": {},
     "output_type": "display_data"
    }
   ],
   "source": [
    "display(results[min_query_times_results_columns])"
   ]
  },
  {
   "cell_type": "markdown",
   "metadata": {},
   "source": [
    "## Analyze number of expanded routes"
   ]
  },
  {
   "cell_type": "code",
   "execution_count": 9,
   "metadata": {},
   "outputs": [],
   "source": [
    "avg_nof_expanded_routes_results_columns = [col for col in results.columns if 'avgExpandedRoutes' in col]\n",
    "median_nof_expanded_routes_results_columns = [col for col in results.columns if 'medianExpandedRoutes' in col]\n",
    "max_nof_expanded_routes_results_columns = [col for col in results.columns if 'maxExpandedRoutes' in col]\n",
    "min_nof_expanded_routes_results_columns = [col for col in results.columns if 'minExpandedRoutes' in col]"
   ]
  },
  {
   "cell_type": "code",
   "execution_count": 10,
   "metadata": {},
   "outputs": [
    {
     "data": {
      "text/html": [
       "<div>\n",
       "<style scoped>\n",
       "    .dataframe tbody tr th:only-of-type {\n",
       "        vertical-align: middle;\n",
       "    }\n",
       "\n",
       "    .dataframe tbody tr th {\n",
       "        vertical-align: top;\n",
       "    }\n",
       "\n",
       "    .dataframe thead th {\n",
       "        text-align: right;\n",
       "    }\n",
       "</style>\n",
       "<table border=\"1\" class=\"dataframe\">\n",
       "  <thead>\n",
       "    <tr style=\"text-align: right;\">\n",
       "      <th></th>\n",
       "      <th>avgExpandedRoutesRaptor</th>\n",
       "      <th>avgExpandedRoutesRaptorBoundStar</th>\n",
       "      <th>avgExpandedRoutesRaptorPQStar</th>\n",
       "    </tr>\n",
       "  </thead>\n",
       "  <tbody>\n",
       "    <tr>\n",
       "      <th>0</th>\n",
       "      <td>499223</td>\n",
       "      <td>421687</td>\n",
       "      <td>183573</td>\n",
       "    </tr>\n",
       "  </tbody>\n",
       "</table>\n",
       "</div>"
      ],
      "text/plain": [
       "   avgExpandedRoutesRaptor  avgExpandedRoutesRaptorBoundStar  \\\n",
       "0                   499223                            421687   \n",
       "\n",
       "   avgExpandedRoutesRaptorPQStar  \n",
       "0                         183573  "
      ]
     },
     "metadata": {},
     "output_type": "display_data"
    }
   ],
   "source": [
    "display(results[avg_nof_expanded_routes_results_columns])"
   ]
  },
  {
   "cell_type": "code",
   "execution_count": 11,
   "metadata": {},
   "outputs": [
    {
     "data": {
      "text/html": [
       "<div>\n",
       "<style scoped>\n",
       "    .dataframe tbody tr th:only-of-type {\n",
       "        vertical-align: middle;\n",
       "    }\n",
       "\n",
       "    .dataframe tbody tr th {\n",
       "        vertical-align: top;\n",
       "    }\n",
       "\n",
       "    .dataframe thead th {\n",
       "        text-align: right;\n",
       "    }\n",
       "</style>\n",
       "<table border=\"1\" class=\"dataframe\">\n",
       "  <thead>\n",
       "    <tr style=\"text-align: right;\">\n",
       "      <th></th>\n",
       "      <th>medianExpandedRoutesRaptor</th>\n",
       "      <th>medianExpandedRoutesRaptorBoundStar</th>\n",
       "      <th>medianExpandedRoutesRaptorPQStar</th>\n",
       "    </tr>\n",
       "  </thead>\n",
       "  <tbody>\n",
       "    <tr>\n",
       "      <th>0</th>\n",
       "      <td>516336</td>\n",
       "      <td>427089</td>\n",
       "      <td>177012</td>\n",
       "    </tr>\n",
       "  </tbody>\n",
       "</table>\n",
       "</div>"
      ],
      "text/plain": [
       "   medianExpandedRoutesRaptor  medianExpandedRoutesRaptorBoundStar  \\\n",
       "0                      516336                               427089   \n",
       "\n",
       "   medianExpandedRoutesRaptorPQStar  \n",
       "0                            177012  "
      ]
     },
     "metadata": {},
     "output_type": "display_data"
    }
   ],
   "source": [
    "display(results[median_nof_expanded_routes_results_columns])"
   ]
  },
  {
   "cell_type": "code",
   "execution_count": 12,
   "metadata": {},
   "outputs": [
    {
     "data": {
      "text/html": [
       "<div>\n",
       "<style scoped>\n",
       "    .dataframe tbody tr th:only-of-type {\n",
       "        vertical-align: middle;\n",
       "    }\n",
       "\n",
       "    .dataframe tbody tr th {\n",
       "        vertical-align: top;\n",
       "    }\n",
       "\n",
       "    .dataframe thead th {\n",
       "        text-align: right;\n",
       "    }\n",
       "</style>\n",
       "<table border=\"1\" class=\"dataframe\">\n",
       "  <thead>\n",
       "    <tr style=\"text-align: right;\">\n",
       "      <th></th>\n",
       "      <th>maxExpandedRoutesRaptor</th>\n",
       "      <th>maxExpandedRoutesRaptorBoundStar</th>\n",
       "      <th>maxExpandedRoutesRaptorPQStar</th>\n",
       "    </tr>\n",
       "  </thead>\n",
       "  <tbody>\n",
       "    <tr>\n",
       "      <th>0</th>\n",
       "      <td>1316650.0</td>\n",
       "      <td>1295780.0</td>\n",
       "      <td>441835</td>\n",
       "    </tr>\n",
       "  </tbody>\n",
       "</table>\n",
       "</div>"
      ],
      "text/plain": [
       "   maxExpandedRoutesRaptor  maxExpandedRoutesRaptorBoundStar  \\\n",
       "0                1316650.0                         1295780.0   \n",
       "\n",
       "   maxExpandedRoutesRaptorPQStar  \n",
       "0                         441835  "
      ]
     },
     "metadata": {},
     "output_type": "display_data"
    }
   ],
   "source": [
    "display(results[max_nof_expanded_routes_results_columns])"
   ]
  },
  {
   "cell_type": "code",
   "execution_count": 13,
   "metadata": {},
   "outputs": [
    {
     "data": {
      "text/html": [
       "<div>\n",
       "<style scoped>\n",
       "    .dataframe tbody tr th:only-of-type {\n",
       "        vertical-align: middle;\n",
       "    }\n",
       "\n",
       "    .dataframe tbody tr th {\n",
       "        vertical-align: top;\n",
       "    }\n",
       "\n",
       "    .dataframe thead th {\n",
       "        text-align: right;\n",
       "    }\n",
       "</style>\n",
       "<table border=\"1\" class=\"dataframe\">\n",
       "  <thead>\n",
       "    <tr style=\"text-align: right;\">\n",
       "      <th></th>\n",
       "      <th>minExpandedRoutesRaptor</th>\n",
       "      <th>minExpandedRoutesRaptorBoundStar</th>\n",
       "      <th>minExpandedRoutesRaptorPQStar</th>\n",
       "    </tr>\n",
       "  </thead>\n",
       "  <tbody>\n",
       "    <tr>\n",
       "      <th>0</th>\n",
       "      <td>196</td>\n",
       "      <td>132</td>\n",
       "      <td>119</td>\n",
       "    </tr>\n",
       "  </tbody>\n",
       "</table>\n",
       "</div>"
      ],
      "text/plain": [
       "   minExpandedRoutesRaptor  minExpandedRoutesRaptorBoundStar  \\\n",
       "0                      196                               132   \n",
       "\n",
       "   minExpandedRoutesRaptorPQStar  \n",
       "0                            119  "
      ]
     },
     "metadata": {},
     "output_type": "display_data"
    }
   ],
   "source": [
    "display(results[min_nof_expanded_routes_results_columns])"
   ]
  },
  {
   "cell_type": "markdown",
   "metadata": {},
   "source": [
    "## Analyze the lower bounds"
   ]
  },
  {
   "cell_type": "code",
   "execution_count": 14,
   "metadata": {},
   "outputs": [],
   "source": [
    "avg_lower_bound_smaller_counter_columns = [col for col in results.columns if 'avgLowerBoundSmallerCount' in col]\n",
    "avg_lower_bound_greater_counter_columns = [col for col in results.columns if 'avgLowerBoundGreaterCount' in col]\n",
    "avg_lower_bound_smaller_fraction_columns = [col for col in results.columns if 'avgLowerBoundSmallerFraction' in col]\n",
    "avg_lower_bound_abs_diff_columns = [col for col in results.columns if 'avgLowerBoundAbsDiff' in col]\n",
    "avg_lower_bound_rel_diff_columns = [col for col in results.columns if 'avgLowerBoundRelDiff' in col]"
   ]
  },
  {
   "cell_type": "code",
   "execution_count": 15,
   "metadata": {},
   "outputs": [
    {
     "data": {
      "text/html": [
       "<div>\n",
       "<style scoped>\n",
       "    .dataframe tbody tr th:only-of-type {\n",
       "        vertical-align: middle;\n",
       "    }\n",
       "\n",
       "    .dataframe tbody tr th {\n",
       "        vertical-align: top;\n",
       "    }\n",
       "\n",
       "    .dataframe thead th {\n",
       "        text-align: right;\n",
       "    }\n",
       "</style>\n",
       "<table border=\"1\" class=\"dataframe\">\n",
       "  <thead>\n",
       "    <tr style=\"text-align: right;\">\n",
       "      <th></th>\n",
       "      <th>avgLowerBoundSmallerCountRaptorBoundStar</th>\n",
       "      <th>avgLowerBoundSmallerCountRaptorPQStar</th>\n",
       "    </tr>\n",
       "  </thead>\n",
       "  <tbody>\n",
       "    <tr>\n",
       "      <th>0</th>\n",
       "      <td>214094</td>\n",
       "      <td>35996.2</td>\n",
       "    </tr>\n",
       "  </tbody>\n",
       "</table>\n",
       "</div>"
      ],
      "text/plain": [
       "   avgLowerBoundSmallerCountRaptorBoundStar  \\\n",
       "0                                    214094   \n",
       "\n",
       "   avgLowerBoundSmallerCountRaptorPQStar  \n",
       "0                                35996.2  "
      ]
     },
     "metadata": {},
     "output_type": "display_data"
    }
   ],
   "source": [
    "display(results[avg_lower_bound_smaller_counter_columns])"
   ]
  },
  {
   "cell_type": "code",
   "execution_count": 16,
   "metadata": {},
   "outputs": [
    {
     "data": {
      "text/html": [
       "<div>\n",
       "<style scoped>\n",
       "    .dataframe tbody tr th:only-of-type {\n",
       "        vertical-align: middle;\n",
       "    }\n",
       "\n",
       "    .dataframe tbody tr th {\n",
       "        vertical-align: top;\n",
       "    }\n",
       "\n",
       "    .dataframe thead th {\n",
       "        text-align: right;\n",
       "    }\n",
       "</style>\n",
       "<table border=\"1\" class=\"dataframe\">\n",
       "  <thead>\n",
       "    <tr style=\"text-align: right;\">\n",
       "      <th></th>\n",
       "      <th>avgLowerBoundGreaterCountRaptorBoundStar</th>\n",
       "      <th>avgLowerBoundGreaterCountRaptorPQStar</th>\n",
       "    </tr>\n",
       "  </thead>\n",
       "  <tbody>\n",
       "    <tr>\n",
       "      <th>0</th>\n",
       "      <td>72696.7</td>\n",
       "      <td>15.1112</td>\n",
       "    </tr>\n",
       "  </tbody>\n",
       "</table>\n",
       "</div>"
      ],
      "text/plain": [
       "   avgLowerBoundGreaterCountRaptorBoundStar  \\\n",
       "0                                   72696.7   \n",
       "\n",
       "   avgLowerBoundGreaterCountRaptorPQStar  \n",
       "0                                15.1112  "
      ]
     },
     "metadata": {},
     "output_type": "display_data"
    }
   ],
   "source": [
    "display(results[avg_lower_bound_greater_counter_columns])"
   ]
  },
  {
   "cell_type": "code",
   "execution_count": 17,
   "metadata": {},
   "outputs": [
    {
     "data": {
      "text/html": [
       "<div>\n",
       "<style scoped>\n",
       "    .dataframe tbody tr th:only-of-type {\n",
       "        vertical-align: middle;\n",
       "    }\n",
       "\n",
       "    .dataframe tbody tr th {\n",
       "        vertical-align: top;\n",
       "    }\n",
       "\n",
       "    .dataframe thead th {\n",
       "        text-align: right;\n",
       "    }\n",
       "</style>\n",
       "<table border=\"1\" class=\"dataframe\">\n",
       "  <thead>\n",
       "    <tr style=\"text-align: right;\">\n",
       "      <th></th>\n",
       "      <th>avgLowerBoundSmallerFractionRaptorBoundStar</th>\n",
       "      <th>avgLowerBoundSmallerFractionRaptorPQStar</th>\n",
       "    </tr>\n",
       "  </thead>\n",
       "  <tbody>\n",
       "    <tr>\n",
       "      <th>0</th>\n",
       "      <td>0.677856</td>\n",
       "      <td>NaN</td>\n",
       "    </tr>\n",
       "  </tbody>\n",
       "</table>\n",
       "</div>"
      ],
      "text/plain": [
       "   avgLowerBoundSmallerFractionRaptorBoundStar  \\\n",
       "0                                     0.677856   \n",
       "\n",
       "   avgLowerBoundSmallerFractionRaptorPQStar  \n",
       "0                                       NaN  "
      ]
     },
     "metadata": {},
     "output_type": "display_data"
    }
   ],
   "source": [
    "display(results[avg_lower_bound_smaller_fraction_columns])"
   ]
  },
  {
   "cell_type": "code",
   "execution_count": 18,
   "metadata": {},
   "outputs": [
    {
     "data": {
      "text/html": [
       "<div>\n",
       "<style scoped>\n",
       "    .dataframe tbody tr th:only-of-type {\n",
       "        vertical-align: middle;\n",
       "    }\n",
       "\n",
       "    .dataframe tbody tr th {\n",
       "        vertical-align: top;\n",
       "    }\n",
       "\n",
       "    .dataframe thead th {\n",
       "        text-align: right;\n",
       "    }\n",
       "</style>\n",
       "<table border=\"1\" class=\"dataframe\">\n",
       "  <thead>\n",
       "    <tr style=\"text-align: right;\">\n",
       "      <th></th>\n",
       "      <th>avgLowerBoundAbsDiffRaptorBoundStar</th>\n",
       "      <th>avgLowerBoundAbsDiffRaptorPQStar</th>\n",
       "    </tr>\n",
       "  </thead>\n",
       "  <tbody>\n",
       "    <tr>\n",
       "      <th>0</th>\n",
       "      <td>14850.2</td>\n",
       "      <td>NaN</td>\n",
       "    </tr>\n",
       "  </tbody>\n",
       "</table>\n",
       "</div>"
      ],
      "text/plain": [
       "   avgLowerBoundAbsDiffRaptorBoundStar  avgLowerBoundAbsDiffRaptorPQStar\n",
       "0                              14850.2                               NaN"
      ]
     },
     "metadata": {},
     "output_type": "display_data"
    }
   ],
   "source": [
    "display(results[avg_lower_bound_abs_diff_columns]) # in seconds"
   ]
  },
  {
   "cell_type": "code",
   "execution_count": 19,
   "metadata": {},
   "outputs": [
    {
     "data": {
      "text/html": [
       "<div>\n",
       "<style scoped>\n",
       "    .dataframe tbody tr th:only-of-type {\n",
       "        vertical-align: middle;\n",
       "    }\n",
       "\n",
       "    .dataframe tbody tr th {\n",
       "        vertical-align: top;\n",
       "    }\n",
       "\n",
       "    .dataframe thead th {\n",
       "        text-align: right;\n",
       "    }\n",
       "</style>\n",
       "<table border=\"1\" class=\"dataframe\">\n",
       "  <thead>\n",
       "    <tr style=\"text-align: right;\">\n",
       "      <th></th>\n",
       "      <th>avgLowerBoundRelDiffRaptorBoundStar</th>\n",
       "      <th>avgLowerBoundRelDiffRaptorPQStar</th>\n",
       "    </tr>\n",
       "  </thead>\n",
       "  <tbody>\n",
       "    <tr>\n",
       "      <th>0</th>\n",
       "      <td>0.13984</td>\n",
       "      <td>NaN</td>\n",
       "    </tr>\n",
       "  </tbody>\n",
       "</table>\n",
       "</div>"
      ],
      "text/plain": [
       "   avgLowerBoundRelDiffRaptorBoundStar  avgLowerBoundRelDiffRaptorPQStar\n",
       "0                              0.13984                               NaN"
      ]
     },
     "metadata": {},
     "output_type": "display_data"
    }
   ],
   "source": [
    "display(results[avg_lower_bound_rel_diff_columns])"
   ]
  }
 ],
 "metadata": {
  "kernelspec": {
   "display_name": "meeting-points-env",
   "language": "python",
   "name": "python3"
  },
  "language_info": {
   "codemirror_mode": {
    "name": "ipython",
    "version": 3
   },
   "file_extension": ".py",
   "mimetype": "text/x-python",
   "name": "python",
   "nbconvert_exporter": "python",
   "pygments_lexer": "ipython3",
   "version": "3.12.2"
  }
 },
 "nbformat": 4,
 "nbformat_minor": 2
}
