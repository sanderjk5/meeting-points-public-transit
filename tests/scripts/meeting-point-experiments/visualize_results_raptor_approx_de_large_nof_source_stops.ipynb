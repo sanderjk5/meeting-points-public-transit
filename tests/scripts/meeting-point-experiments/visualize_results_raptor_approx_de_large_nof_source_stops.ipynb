{
 "cells": [
  {
   "cell_type": "markdown",
   "metadata": {},
   "source": [
    "# Visualize Test Results (Raptor Approx Large Nof Source Stops) - Germany Graph"
   ]
  },
  {
   "cell_type": "code",
   "execution_count": 1,
   "metadata": {},
   "outputs": [],
   "source": [
    "import numpy as np\n",
    "import matplotlib.pyplot as plt\n",
    "import pandas as pd"
   ]
  },
  {
   "cell_type": "markdown",
   "metadata": {},
   "source": [
    "## Load the data"
   ]
  },
  {
   "cell_type": "code",
   "execution_count": 2,
   "metadata": {},
   "outputs": [],
   "source": [
    "folder = \"../../gesamt_de/results/\"\n",
    "\n",
    "results = pd.read_csv(folder + \"raptor-approximation-results-large-nof-sources-2024-7-27-10-27-54.csv\") # k = 500, 1000, 2000\n",
    "\n",
    "# set number of source stops as index\n",
    "results = results.set_index(\"numberOfSourceStops\")\n",
    "\n",
    "# sort by index\n",
    "results = results.sort_index()"
   ]
  },
  {
   "cell_type": "code",
   "execution_count": 3,
   "metadata": {},
   "outputs": [
    {
     "data": {
      "text/html": [
       "<div>\n",
       "<style scoped>\n",
       "    .dataframe tbody tr th:only-of-type {\n",
       "        vertical-align: middle;\n",
       "    }\n",
       "\n",
       "    .dataframe tbody tr th {\n",
       "        vertical-align: top;\n",
       "    }\n",
       "\n",
       "    .dataframe thead th {\n",
       "        text-align: right;\n",
       "    }\n",
       "</style>\n",
       "<table border=\"1\" class=\"dataframe\">\n",
       "  <thead>\n",
       "    <tr style=\"text-align: right;\">\n",
       "      <th></th>\n",
       "      <th>avgQueryTimeRaptorApproxMinMaxLoop</th>\n",
       "      <th>medianQueryTimeRaptorApproxMinMaxLoop</th>\n",
       "      <th>maxQueryTimeRaptorApproxMinMaxLoop</th>\n",
       "      <th>minQueryTimeRaptorApproxMinMaxLoop</th>\n",
       "      <th>accuracyRaptorApproxMinMaxLoop</th>\n",
       "      <th>avgNumberOfRoundsRaptorApproxMinMaxLoop</th>\n",
       "      <th>medianNumberOfRoundsRaptorApproxMinMaxLoop</th>\n",
       "      <th>maxNumberOfRoundsRaptorApproxMinMaxLoop</th>\n",
       "      <th>avgNumberOfQueriesRaptorApproxMinMaxLoop</th>\n",
       "      <th>medianNumberOfQueriesRaptorApproxMinMaxLoop</th>\n",
       "      <th>maxNumberOfQueriesRaptorApproxMinMaxLoop</th>\n",
       "    </tr>\n",
       "    <tr>\n",
       "      <th>numberOfSourceStops</th>\n",
       "      <th></th>\n",
       "      <th></th>\n",
       "      <th></th>\n",
       "      <th></th>\n",
       "      <th></th>\n",
       "      <th></th>\n",
       "      <th></th>\n",
       "      <th></th>\n",
       "      <th></th>\n",
       "      <th></th>\n",
       "      <th></th>\n",
       "    </tr>\n",
       "  </thead>\n",
       "  <tbody>\n",
       "    <tr>\n",
       "      <th>500</th>\n",
       "      <td>18132.8</td>\n",
       "      <td>16856.5</td>\n",
       "      <td>35629</td>\n",
       "      <td>7237</td>\n",
       "      <td>0.92</td>\n",
       "      <td>2.27174</td>\n",
       "      <td>2</td>\n",
       "      <td>4</td>\n",
       "      <td>11.4457</td>\n",
       "      <td>12</td>\n",
       "      <td>18</td>\n",
       "    </tr>\n",
       "    <tr>\n",
       "      <th>1000</th>\n",
       "      <td>26146.6</td>\n",
       "      <td>25437.0</td>\n",
       "      <td>50928</td>\n",
       "      <td>7403</td>\n",
       "      <td>0.93</td>\n",
       "      <td>2.35484</td>\n",
       "      <td>2</td>\n",
       "      <td>4</td>\n",
       "      <td>11.7742</td>\n",
       "      <td>12</td>\n",
       "      <td>19</td>\n",
       "    </tr>\n",
       "  </tbody>\n",
       "</table>\n",
       "</div>"
      ],
      "text/plain": [
       "                     avgQueryTimeRaptorApproxMinMaxLoop  \\\n",
       "numberOfSourceStops                                       \n",
       "500                                             18132.8   \n",
       "1000                                            26146.6   \n",
       "\n",
       "                     medianQueryTimeRaptorApproxMinMaxLoop  \\\n",
       "numberOfSourceStops                                          \n",
       "500                                                16856.5   \n",
       "1000                                               25437.0   \n",
       "\n",
       "                     maxQueryTimeRaptorApproxMinMaxLoop  \\\n",
       "numberOfSourceStops                                       \n",
       "500                                               35629   \n",
       "1000                                              50928   \n",
       "\n",
       "                     minQueryTimeRaptorApproxMinMaxLoop  \\\n",
       "numberOfSourceStops                                       \n",
       "500                                                7237   \n",
       "1000                                               7403   \n",
       "\n",
       "                     accuracyRaptorApproxMinMaxLoop  \\\n",
       "numberOfSourceStops                                   \n",
       "500                                            0.92   \n",
       "1000                                           0.93   \n",
       "\n",
       "                     avgNumberOfRoundsRaptorApproxMinMaxLoop  \\\n",
       "numberOfSourceStops                                            \n",
       "500                                                  2.27174   \n",
       "1000                                                 2.35484   \n",
       "\n",
       "                     medianNumberOfRoundsRaptorApproxMinMaxLoop  \\\n",
       "numberOfSourceStops                                               \n",
       "500                                                           2   \n",
       "1000                                                          2   \n",
       "\n",
       "                     maxNumberOfRoundsRaptorApproxMinMaxLoop  \\\n",
       "numberOfSourceStops                                            \n",
       "500                                                        4   \n",
       "1000                                                       4   \n",
       "\n",
       "                     avgNumberOfQueriesRaptorApproxMinMaxLoop  \\\n",
       "numberOfSourceStops                                             \n",
       "500                                                   11.4457   \n",
       "1000                                                  11.7742   \n",
       "\n",
       "                     medianNumberOfQueriesRaptorApproxMinMaxLoop  \\\n",
       "numberOfSourceStops                                                \n",
       "500                                                           12   \n",
       "1000                                                          12   \n",
       "\n",
       "                     maxNumberOfQueriesRaptorApproxMinMaxLoop  \n",
       "numberOfSourceStops                                            \n",
       "500                                                        18  \n",
       "1000                                                       19  "
      ]
     },
     "metadata": {},
     "output_type": "display_data"
    }
   ],
   "source": [
    "display(results)"
   ]
  },
  {
   "cell_type": "markdown",
   "metadata": {},
   "source": [
    "## Analyze the query times"
   ]
  },
  {
   "cell_type": "code",
   "execution_count": 4,
   "metadata": {},
   "outputs": [],
   "source": [
    "query_time_result_columns = [col for col in results.columns if \"QueryTime\" in col]"
   ]
  },
  {
   "cell_type": "code",
   "execution_count": 5,
   "metadata": {},
   "outputs": [
    {
     "data": {
      "text/html": [
       "<div>\n",
       "<style scoped>\n",
       "    .dataframe tbody tr th:only-of-type {\n",
       "        vertical-align: middle;\n",
       "    }\n",
       "\n",
       "    .dataframe tbody tr th {\n",
       "        vertical-align: top;\n",
       "    }\n",
       "\n",
       "    .dataframe thead th {\n",
       "        text-align: right;\n",
       "    }\n",
       "</style>\n",
       "<table border=\"1\" class=\"dataframe\">\n",
       "  <thead>\n",
       "    <tr style=\"text-align: right;\">\n",
       "      <th></th>\n",
       "      <th>avgQueryTimeRaptorApproxMinMaxLoop</th>\n",
       "      <th>medianQueryTimeRaptorApproxMinMaxLoop</th>\n",
       "      <th>maxQueryTimeRaptorApproxMinMaxLoop</th>\n",
       "      <th>minQueryTimeRaptorApproxMinMaxLoop</th>\n",
       "    </tr>\n",
       "    <tr>\n",
       "      <th>numberOfSourceStops</th>\n",
       "      <th></th>\n",
       "      <th></th>\n",
       "      <th></th>\n",
       "      <th></th>\n",
       "    </tr>\n",
       "  </thead>\n",
       "  <tbody>\n",
       "    <tr>\n",
       "      <th>500</th>\n",
       "      <td>18132.8</td>\n",
       "      <td>16856.5</td>\n",
       "      <td>35629</td>\n",
       "      <td>7237</td>\n",
       "    </tr>\n",
       "    <tr>\n",
       "      <th>1000</th>\n",
       "      <td>26146.6</td>\n",
       "      <td>25437.0</td>\n",
       "      <td>50928</td>\n",
       "      <td>7403</td>\n",
       "    </tr>\n",
       "  </tbody>\n",
       "</table>\n",
       "</div>"
      ],
      "text/plain": [
       "                     avgQueryTimeRaptorApproxMinMaxLoop  \\\n",
       "numberOfSourceStops                                       \n",
       "500                                             18132.8   \n",
       "1000                                            26146.6   \n",
       "\n",
       "                     medianQueryTimeRaptorApproxMinMaxLoop  \\\n",
       "numberOfSourceStops                                          \n",
       "500                                                16856.5   \n",
       "1000                                               25437.0   \n",
       "\n",
       "                     maxQueryTimeRaptorApproxMinMaxLoop  \\\n",
       "numberOfSourceStops                                       \n",
       "500                                               35629   \n",
       "1000                                              50928   \n",
       "\n",
       "                     minQueryTimeRaptorApproxMinMaxLoop  \n",
       "numberOfSourceStops                                      \n",
       "500                                                7237  \n",
       "1000                                               7403  "
      ]
     },
     "metadata": {},
     "output_type": "display_data"
    }
   ],
   "source": [
    "display(results[query_time_result_columns])"
   ]
  },
  {
   "cell_type": "markdown",
   "metadata": {},
   "source": [
    "## Analyze the number of rounds and queries"
   ]
  },
  {
   "cell_type": "code",
   "execution_count": 8,
   "metadata": {},
   "outputs": [],
   "source": [
    "nof_rounds_result_columns = [col for col in results.columns if \"NumberOfRounds\" in col]\n",
    "nof_queries_result_columns = [col for col in results.columns if \"NumberOfQueries\" in col]"
   ]
  },
  {
   "cell_type": "code",
   "execution_count": 9,
   "metadata": {},
   "outputs": [
    {
     "data": {
      "text/html": [
       "<div>\n",
       "<style scoped>\n",
       "    .dataframe tbody tr th:only-of-type {\n",
       "        vertical-align: middle;\n",
       "    }\n",
       "\n",
       "    .dataframe tbody tr th {\n",
       "        vertical-align: top;\n",
       "    }\n",
       "\n",
       "    .dataframe thead th {\n",
       "        text-align: right;\n",
       "    }\n",
       "</style>\n",
       "<table border=\"1\" class=\"dataframe\">\n",
       "  <thead>\n",
       "    <tr style=\"text-align: right;\">\n",
       "      <th></th>\n",
       "      <th>avgNumberOfRoundsRaptorApproxMinMaxLoop</th>\n",
       "      <th>medianNumberOfRoundsRaptorApproxMinMaxLoop</th>\n",
       "      <th>maxNumberOfRoundsRaptorApproxMinMaxLoop</th>\n",
       "    </tr>\n",
       "    <tr>\n",
       "      <th>numberOfSourceStops</th>\n",
       "      <th></th>\n",
       "      <th></th>\n",
       "      <th></th>\n",
       "    </tr>\n",
       "  </thead>\n",
       "  <tbody>\n",
       "    <tr>\n",
       "      <th>500</th>\n",
       "      <td>2.27174</td>\n",
       "      <td>2</td>\n",
       "      <td>4</td>\n",
       "    </tr>\n",
       "    <tr>\n",
       "      <th>1000</th>\n",
       "      <td>2.35484</td>\n",
       "      <td>2</td>\n",
       "      <td>4</td>\n",
       "    </tr>\n",
       "  </tbody>\n",
       "</table>\n",
       "</div>"
      ],
      "text/plain": [
       "                     avgNumberOfRoundsRaptorApproxMinMaxLoop  \\\n",
       "numberOfSourceStops                                            \n",
       "500                                                  2.27174   \n",
       "1000                                                 2.35484   \n",
       "\n",
       "                     medianNumberOfRoundsRaptorApproxMinMaxLoop  \\\n",
       "numberOfSourceStops                                               \n",
       "500                                                           2   \n",
       "1000                                                          2   \n",
       "\n",
       "                     maxNumberOfRoundsRaptorApproxMinMaxLoop  \n",
       "numberOfSourceStops                                           \n",
       "500                                                        4  \n",
       "1000                                                       4  "
      ]
     },
     "metadata": {},
     "output_type": "display_data"
    }
   ],
   "source": [
    "display(results[nof_rounds_result_columns])"
   ]
  },
  {
   "cell_type": "code",
   "execution_count": 10,
   "metadata": {},
   "outputs": [
    {
     "data": {
      "text/html": [
       "<div>\n",
       "<style scoped>\n",
       "    .dataframe tbody tr th:only-of-type {\n",
       "        vertical-align: middle;\n",
       "    }\n",
       "\n",
       "    .dataframe tbody tr th {\n",
       "        vertical-align: top;\n",
       "    }\n",
       "\n",
       "    .dataframe thead th {\n",
       "        text-align: right;\n",
       "    }\n",
       "</style>\n",
       "<table border=\"1\" class=\"dataframe\">\n",
       "  <thead>\n",
       "    <tr style=\"text-align: right;\">\n",
       "      <th></th>\n",
       "      <th>avgNumberOfQueriesRaptorApproxMinMaxLoop</th>\n",
       "      <th>medianNumberOfQueriesRaptorApproxMinMaxLoop</th>\n",
       "      <th>maxNumberOfQueriesRaptorApproxMinMaxLoop</th>\n",
       "    </tr>\n",
       "    <tr>\n",
       "      <th>numberOfSourceStops</th>\n",
       "      <th></th>\n",
       "      <th></th>\n",
       "      <th></th>\n",
       "    </tr>\n",
       "  </thead>\n",
       "  <tbody>\n",
       "    <tr>\n",
       "      <th>500</th>\n",
       "      <td>11.4457</td>\n",
       "      <td>12</td>\n",
       "      <td>18</td>\n",
       "    </tr>\n",
       "    <tr>\n",
       "      <th>1000</th>\n",
       "      <td>11.7742</td>\n",
       "      <td>12</td>\n",
       "      <td>19</td>\n",
       "    </tr>\n",
       "  </tbody>\n",
       "</table>\n",
       "</div>"
      ],
      "text/plain": [
       "                     avgNumberOfQueriesRaptorApproxMinMaxLoop  \\\n",
       "numberOfSourceStops                                             \n",
       "500                                                   11.4457   \n",
       "1000                                                  11.7742   \n",
       "\n",
       "                     medianNumberOfQueriesRaptorApproxMinMaxLoop  \\\n",
       "numberOfSourceStops                                                \n",
       "500                                                           12   \n",
       "1000                                                          12   \n",
       "\n",
       "                     maxNumberOfQueriesRaptorApproxMinMaxLoop  \n",
       "numberOfSourceStops                                            \n",
       "500                                                        18  \n",
       "1000                                                       19  "
      ]
     },
     "metadata": {},
     "output_type": "display_data"
    }
   ],
   "source": [
    "display(results[nof_queries_result_columns])"
   ]
  }
 ],
 "metadata": {
  "kernelspec": {
   "display_name": "meeting-points-env",
   "language": "python",
   "name": "python3"
  },
  "language_info": {
   "codemirror_mode": {
    "name": "ipython",
    "version": 3
   },
   "file_extension": ".py",
   "mimetype": "text/x-python",
   "name": "python",
   "nbconvert_exporter": "python",
   "pygments_lexer": "ipython3",
   "version": "3.12.2"
  }
 },
 "nbformat": 4,
 "nbformat_minor": 2
}
